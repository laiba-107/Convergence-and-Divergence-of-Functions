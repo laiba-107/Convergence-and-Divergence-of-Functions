{
 "cells": [
  {
   "cell_type": "code",
   "execution_count": 12,
   "id": "b714bcca",
   "metadata": {},
   "outputs": [],
   "source": [
    "import sympy as sp\n",
    "import numpy as np\n",
    "import matplotlib.pyplot as plt\n",
    "import pandas as pd\n",
    "import warnings"
   ]
  },
  {
   "cell_type": "code",
   "execution_count": 13,
   "id": "c3102a3e",
   "metadata": {},
   "outputs": [],
   "source": [
    "# Define special functions and constants explicitly\n",
    "x = sp.symbols('x')\n",
    "sin = sp.sin\n",
    "cos = sp.cos\n",
    "tan = sp.tan\n",
    "exp = sp.exp\n",
    "sqrt = sp.sqrt\n",
    "pi = sp.pi"
   ]
  },
  {
   "cell_type": "code",
   "execution_count": 14,
   "id": "6effcd0b",
   "metadata": {},
   "outputs": [
    {
     "name": "stdout",
     "output_type": "stream",
     "text": [
      "Enter the function (in terms of 'x'): 1/x\n"
     ]
    }
   ],
   "source": [
    "# Input = Function as a string\n",
    "function_str = input(\"Enter the function (in terms of 'x'): \")\n",
    "x = sp.symbols('x')\n",
    "function = sp.sympify(function_str)\n",
    "g = sp.lambdify(x, function)"
   ]
  },
  {
   "cell_type": "code",
   "execution_count": 15,
   "id": "04b0eaa7",
   "metadata": {},
   "outputs": [
    {
     "name": "stdout",
     "output_type": "stream",
     "text": [
      "Enter the point where you want to find the limit: 0\n"
     ]
    }
   ],
   "source": [
    "# Point where you want to find the limit\n",
    "point = float(input(\"Enter the point where you want to find the limit: \"))"
   ]
  },
  {
   "cell_type": "code",
   "execution_count": 16,
   "id": "2e251c65",
   "metadata": {},
   "outputs": [],
   "source": [
    "# Calculate the limit of the function as x approaches the specified point\n",
    "limit_point = sp.limit(function, x, point)"
   ]
  },
  {
   "cell_type": "code",
   "execution_count": 17,
   "id": "37778bf3",
   "metadata": {},
   "outputs": [],
   "source": [
    "# Calculate the limit of the function as x approaches positive infinity\n",
    "limit_pos_inf = sp.limit(function, x, sp.oo)"
   ]
  },
  {
   "cell_type": "code",
   "execution_count": 18,
   "id": "eb24330f",
   "metadata": {},
   "outputs": [],
   "source": [
    "# Calculate the limit of the function as x approaches negative infinity\n",
    "limit_neg_inf = sp.limit(function, x, -sp.oo)"
   ]
  },
  {
   "cell_type": "code",
   "execution_count": 19,
   "id": "0335253d",
   "metadata": {},
   "outputs": [],
   "source": [
    "# Generate a range of x values for visualization\n",
    "x_values = np.linspace(point - 1, point + 1, 1001)"
   ]
  },
  {
   "cell_type": "code",
   "execution_count": 20,
   "id": "3a1c419a",
   "metadata": {
    "scrolled": true
   },
   "outputs": [],
   "source": [
    "# Calculate the function values for the specified range function.subs(x, val).evalf() for val in x_values\n",
    "y_values = []\n",
    "with warnings.catch_warnings():\n",
    "    warnings.simplefilter(\"ignore\", RuntimeWarning)\n",
    "    for val in x_values:\n",
    "        result = g(val)\n",
    "        if result == complex(float('inf')):\n",
    "            y_values.append(float('inf'))\n",
    "        else:\n",
    "            y_values.append(result)"
   ]
  },
  {
   "cell_type": "code",
   "execution_count": 21,
   "id": "1fbd033a",
   "metadata": {},
   "outputs": [],
   "source": [
    "# Create a pandas DataFrame for the table\n",
    "table_data = list(zip(x_values, y_values))\n",
    "df = pd.DataFrame(table_data, columns=['x', 'f(x)'])"
   ]
  },
  {
   "cell_type": "code",
   "execution_count": 22,
   "id": "e2e0bf71",
   "metadata": {},
   "outputs": [
    {
     "data": {
      "image/png": "[encoded data removed]",
      "text/plain": [
       "<Figure size 640x480 with 1 Axes>"
      ]
     },
     "metadata": {},
     "output_type": "display_data"
    },
    {
     "data": {
      "text/html": [
       "<div>\n",
       "<style scoped>\n",
       "    .dataframe tbody tr th:only-of-type {\n",
       "        vertical-align: middle;\n",
       "    }\n",
       "\n",
       "    .dataframe tbody tr th {\n",
       "        vertical-align: top;\n",
       "    }\n",
       "\n",
       "    .dataframe thead th {\n",
       "        text-align: right;\n",
       "    }\n",
       "</style>\n",
       "<table border=\"1\" class=\"dataframe\">\n",
       "  <thead>\n",
       "    <tr style=\"text-align: right;\">\n",
       "      <th></th>\n",
       "      <th>x</th>\n",
       "      <th>f(x)</th>\n",
       "    </tr>\n",
       "  </thead>\n",
       "  <tbody>\n",
       "    <tr>\n",
       "      <th>0</th>\n",
       "      <td>-1.000</td>\n",
       "      <td>-1.000000</td>\n",
       "    </tr>\n",
       "    <tr>\n",
       "      <th>1</th>\n",
       "      <td>-0.998</td>\n",
       "      <td>-1.002004</td>\n",
       "    </tr>\n",
       "    <tr>\n",
       "      <th>2</th>\n",
       "      <td>-0.996</td>\n",
       "      <td>-1.004016</td>\n",
       "    </tr>\n",
       "    <tr>\n",
       "      <th>3</th>\n",
       "      <td>-0.994</td>\n",
       "      <td>-1.006036</td>\n",
       "    </tr>\n",
       "    <tr>\n",
       "      <th>4</th>\n",
       "      <td>-0.992</td>\n",
       "      <td>-1.008065</td>\n",
       "    </tr>\n",
       "    <tr>\n",
       "      <th>...</th>\n",
       "      <td>...</td>\n",
       "      <td>...</td>\n",
       "    </tr>\n",
       "    <tr>\n",
       "      <th>996</th>\n",
       "      <td>0.992</td>\n",
       "      <td>1.008065</td>\n",
       "    </tr>\n",
       "    <tr>\n",
       "      <th>997</th>\n",
       "      <td>0.994</td>\n",
       "      <td>1.006036</td>\n",
       "    </tr>\n",
       "    <tr>\n",
       "      <th>998</th>\n",
       "      <td>0.996</td>\n",
       "      <td>1.004016</td>\n",
       "    </tr>\n",
       "    <tr>\n",
       "      <th>999</th>\n",
       "      <td>0.998</td>\n",
       "      <td>1.002004</td>\n",
       "    </tr>\n",
       "    <tr>\n",
       "      <th>1000</th>\n",
       "      <td>1.000</td>\n",
       "      <td>1.000000</td>\n",
       "    </tr>\n",
       "  </tbody>\n",
       "</table>\n",
       "<p>1001 rows × 2 columns</p>\n",
       "</div>"
      ],
      "text/plain": [
       "          x      f(x)\n",
       "0    -1.000 -1.000000\n",
       "1    -0.998 -1.002004\n",
       "2    -0.996 -1.004016\n",
       "3    -0.994 -1.006036\n",
       "4    -0.992 -1.008065\n",
       "...     ...       ...\n",
       "996   0.992  1.008065\n",
       "997   0.994  1.006036\n",
       "998   0.996  1.004016\n",
       "999   0.998  1.002004\n",
       "1000  1.000  1.000000\n",
       "\n",
       "[1001 rows x 2 columns]"
      ]
     },
     "execution_count": 22,
     "metadata": {},
     "output_type": "execute_result"
    }
   ],
   "source": [
    "# Plot the graph\n",
    "plt.plot(x_values, y_values, linestyle='-')        \n",
    "plt.title(f'Graph of {function_str}')\n",
    "\n",
    "# For x and y axis lines\n",
    "plt.axhline(0, color='black', linewidth=1)\n",
    "plt.axvline(0, color='blue', linewidth=1)\n",
    "\n",
    "plt.xlabel('x')\n",
    "plt.ylabel(f'f(x)')\n",
    "plt.show()\n",
    "\n",
    "# Display the table\n",
    "df"
   ]
  },
  {
   "cell_type": "code",
   "execution_count": null,
   "id": "b4754c88",
   "metadata": {},
   "outputs": [],
   "source": []
  }
 ],
 "metadata": {
  "kernelspec": {
   "display_name": "Python 3 (ipykernel)",
   "language": "python",
   "name": "python3"
  },
  "language_info": {
   "codemirror_mode": {
    "name": "ipython",
    "version": 3
   },
   "file_extension": ".py",
   "mimetype": "text/x-python",
   "name": "python",
   "nbconvert_exporter": "python",
   "pygments_lexer": "ipython3",
   "version": "3.11.5"
  }
 },
 "nbformat": 4,
 "nbformat_minor": 5
}
